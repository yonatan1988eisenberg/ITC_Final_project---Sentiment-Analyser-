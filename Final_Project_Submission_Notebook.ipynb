{
  "nbformat": 4,
  "nbformat_minor": 0,
  "metadata": {
    "colab": {
      "name": "Final_Project_Submission_Notebook.ipynb",
      "provenance": [],
      "collapsed_sections": [
        "t16Cc_uFyuF_",
        "7lf3RiCJ45JI",
        "5Q9BIqE1xHBI",
        "mHCf4-gZxHBL",
        "EY9ANkzr-xNy",
        "wqfuERN4-3zO",
        "f2qW1sX9-4Ay",
        "KGZ4ldunxHBM",
        "vrhgp27PAxiP",
        "rQuBOgghxHBX",
        "v7ZXHhEaz7Pf"
      ]
    },
    "kernelspec": {
      "display_name": "Python 3",
      "language": "python",
      "name": "python3"
    },
    "language_info": {
      "codemirror_mode": {
        "name": "ipython",
        "version": 3
      },
      "file_extension": ".py",
      "mimetype": "text/x-python",
      "name": "python",
      "nbconvert_exporter": "python",
      "pygments_lexer": "ipython3",
      "version": "3.8.5"
    },
    "widgets": {
      "application/vnd.jupyter.widget-state+json": {
        "0369a3a1c4b9405e83b6856ff35d961c": {
          "model_module": "@jupyter-widgets/controls",
          "model_name": "HBoxModel",
          "model_module_version": "1.5.0",
          "state": {
            "_view_name": "HBoxView",
            "_dom_classes": [],
            "_model_name": "HBoxModel",
            "_view_module": "@jupyter-widgets/controls",
            "_model_module_version": "1.5.0",
            "_view_count": null,
            "_view_module_version": "1.5.0",
            "box_style": "",
            "layout": "IPY_MODEL_003713aeb3ce4afc9dd2fc4d4f27087a",
            "_model_module": "@jupyter-widgets/controls",
            "children": [
              "IPY_MODEL_0ea74d390bee448eb58f1414eccc1905",
              "IPY_MODEL_e2d7489468b2456cba9ab39ff3a24b45",
              "IPY_MODEL_f88b2c2b1c5c46568549c63d15bf9c7a"
            ]
          }
        },
        "003713aeb3ce4afc9dd2fc4d4f27087a": {
          "model_module": "@jupyter-widgets/base",
          "model_name": "LayoutModel",
          "model_module_version": "1.2.0",
          "state": {
            "_view_name": "LayoutView",
            "grid_template_rows": null,
            "right": null,
            "justify_content": null,
            "_view_module": "@jupyter-widgets/base",
            "overflow": null,
            "_model_module_version": "1.2.0",
            "_view_count": null,
            "flex_flow": null,
            "width": null,
            "min_width": null,
            "border": null,
            "align_items": null,
            "bottom": null,
            "_model_module": "@jupyter-widgets/base",
            "top": null,
            "grid_column": null,
            "overflow_y": null,
            "overflow_x": null,
            "grid_auto_flow": null,
            "grid_area": null,
            "grid_template_columns": null,
            "flex": null,
            "_model_name": "LayoutModel",
            "justify_items": null,
            "grid_row": null,
            "max_height": null,
            "align_content": null,
            "visibility": null,
            "align_self": null,
            "height": null,
            "min_height": null,
            "padding": null,
            "grid_auto_rows": null,
            "grid_gap": null,
            "max_width": null,
            "order": null,
            "_view_module_version": "1.2.0",
            "grid_template_areas": null,
            "object_position": null,
            "object_fit": null,
            "grid_auto_columns": null,
            "margin": null,
            "display": null,
            "left": null
          }
        },
        "0ea74d390bee448eb58f1414eccc1905": {
          "model_module": "@jupyter-widgets/controls",
          "model_name": "HTMLModel",
          "model_module_version": "1.5.0",
          "state": {
            "_view_name": "HTMLView",
            "style": "IPY_MODEL_58fc5698088f4f12abb2aa5056e14549",
            "_dom_classes": [],
            "description": "",
            "_model_name": "HTMLModel",
            "placeholder": "​",
            "_view_module": "@jupyter-widgets/controls",
            "_model_module_version": "1.5.0",
            "value": "100%",
            "_view_count": null,
            "_view_module_version": "1.5.0",
            "description_tooltip": null,
            "_model_module": "@jupyter-widgets/controls",
            "layout": "IPY_MODEL_ba7fd73df3714abd864d732001b55097"
          }
        },
        "e2d7489468b2456cba9ab39ff3a24b45": {
          "model_module": "@jupyter-widgets/controls",
          "model_name": "FloatProgressModel",
          "model_module_version": "1.5.0",
          "state": {
            "_view_name": "ProgressView",
            "style": "IPY_MODEL_1114a224846d4c9c8e450113f02c67ef",
            "_dom_classes": [],
            "description": "",
            "_model_name": "FloatProgressModel",
            "bar_style": "success",
            "max": 43,
            "_view_module": "@jupyter-widgets/controls",
            "_model_module_version": "1.5.0",
            "value": 43,
            "_view_count": null,
            "_view_module_version": "1.5.0",
            "orientation": "horizontal",
            "min": 0,
            "description_tooltip": null,
            "_model_module": "@jupyter-widgets/controls",
            "layout": "IPY_MODEL_903f76124e17429097786c874203770b"
          }
        },
        "f88b2c2b1c5c46568549c63d15bf9c7a": {
          "model_module": "@jupyter-widgets/controls",
          "model_name": "HTMLModel",
          "model_module_version": "1.5.0",
          "state": {
            "_view_name": "HTMLView",
            "style": "IPY_MODEL_11b7e3f2637a49da81c4c40e18a8cea0",
            "_dom_classes": [],
            "description": "",
            "_model_name": "HTMLModel",
            "placeholder": "​",
            "_view_module": "@jupyter-widgets/controls",
            "_model_module_version": "1.5.0",
            "value": " 43/43 [19:12&lt;00:00, 34.08s/it]",
            "_view_count": null,
            "_view_module_version": "1.5.0",
            "description_tooltip": null,
            "_model_module": "@jupyter-widgets/controls",
            "layout": "IPY_MODEL_fb1024e7bab14d7687fed2f2e0a429e6"
          }
        },
        "58fc5698088f4f12abb2aa5056e14549": {
          "model_module": "@jupyter-widgets/controls",
          "model_name": "DescriptionStyleModel",
          "model_module_version": "1.5.0",
          "state": {
            "_view_name": "StyleView",
            "_model_name": "DescriptionStyleModel",
            "description_width": "",
            "_view_module": "@jupyter-widgets/base",
            "_model_module_version": "1.5.0",
            "_view_count": null,
            "_view_module_version": "1.2.0",
            "_model_module": "@jupyter-widgets/controls"
          }
        },
        "ba7fd73df3714abd864d732001b55097": {
          "model_module": "@jupyter-widgets/base",
          "model_name": "LayoutModel",
          "model_module_version": "1.2.0",
          "state": {
            "_view_name": "LayoutView",
            "grid_template_rows": null,
            "right": null,
            "justify_content": null,
            "_view_module": "@jupyter-widgets/base",
            "overflow": null,
            "_model_module_version": "1.2.0",
            "_view_count": null,
            "flex_flow": null,
            "width": null,
            "min_width": null,
            "border": null,
            "align_items": null,
            "bottom": null,
            "_model_module": "@jupyter-widgets/base",
            "top": null,
            "grid_column": null,
            "overflow_y": null,
            "overflow_x": null,
            "grid_auto_flow": null,
            "grid_area": null,
            "grid_template_columns": null,
            "flex": null,
            "_model_name": "LayoutModel",
            "justify_items": null,
            "grid_row": null,
            "max_height": null,
            "align_content": null,
            "visibility": null,
            "align_self": null,
            "height": null,
            "min_height": null,
            "padding": null,
            "grid_auto_rows": null,
            "grid_gap": null,
            "max_width": null,
            "order": null,
            "_view_module_version": "1.2.0",
            "grid_template_areas": null,
            "object_position": null,
            "object_fit": null,
            "grid_auto_columns": null,
            "margin": null,
            "display": null,
            "left": null
          }
        },
        "1114a224846d4c9c8e450113f02c67ef": {
          "model_module": "@jupyter-widgets/controls",
          "model_name": "ProgressStyleModel",
          "model_module_version": "1.5.0",
          "state": {
            "_view_name": "StyleView",
            "_model_name": "ProgressStyleModel",
            "description_width": "",
            "_view_module": "@jupyter-widgets/base",
            "_model_module_version": "1.5.0",
            "_view_count": null,
            "_view_module_version": "1.2.0",
            "bar_color": null,
            "_model_module": "@jupyter-widgets/controls"
          }
        },
        "903f76124e17429097786c874203770b": {
          "model_module": "@jupyter-widgets/base",
          "model_name": "LayoutModel",
          "model_module_version": "1.2.0",
          "state": {
            "_view_name": "LayoutView",
            "grid_template_rows": null,
            "right": null,
            "justify_content": null,
            "_view_module": "@jupyter-widgets/base",
            "overflow": null,
            "_model_module_version": "1.2.0",
            "_view_count": null,
            "flex_flow": null,
            "width": null,
            "min_width": null,
            "border": null,
            "align_items": null,
            "bottom": null,
            "_model_module": "@jupyter-widgets/base",
            "top": null,
            "grid_column": null,
            "overflow_y": null,
            "overflow_x": null,
            "grid_auto_flow": null,
            "grid_area": null,
            "grid_template_columns": null,
            "flex": null,
            "_model_name": "LayoutModel",
            "justify_items": null,
            "grid_row": null,
            "max_height": null,
            "align_content": null,
            "visibility": null,
            "align_self": null,
            "height": null,
            "min_height": null,
            "padding": null,
            "grid_auto_rows": null,
            "grid_gap": null,
            "max_width": null,
            "order": null,
            "_view_module_version": "1.2.0",
            "grid_template_areas": null,
            "object_position": null,
            "object_fit": null,
            "grid_auto_columns": null,
            "margin": null,
            "display": null,
            "left": null
          }
        },
        "11b7e3f2637a49da81c4c40e18a8cea0": {
          "model_module": "@jupyter-widgets/controls",
          "model_name": "DescriptionStyleModel",
          "model_module_version": "1.5.0",
          "state": {
            "_view_name": "StyleView",
            "_model_name": "DescriptionStyleModel",
            "description_width": "",
            "_view_module": "@jupyter-widgets/base",
            "_model_module_version": "1.5.0",
            "_view_count": null,
            "_view_module_version": "1.2.0",
            "_model_module": "@jupyter-widgets/controls"
          }
        },
        "fb1024e7bab14d7687fed2f2e0a429e6": {
          "model_module": "@jupyter-widgets/base",
          "model_name": "LayoutModel",
          "model_module_version": "1.2.0",
          "state": {
            "_view_name": "LayoutView",
            "grid_template_rows": null,
            "right": null,
            "justify_content": null,
            "_view_module": "@jupyter-widgets/base",
            "overflow": null,
            "_model_module_version": "1.2.0",
            "_view_count": null,
            "flex_flow": null,
            "width": null,
            "min_width": null,
            "border": null,
            "align_items": null,
            "bottom": null,
            "_model_module": "@jupyter-widgets/base",
            "top": null,
            "grid_column": null,
            "overflow_y": null,
            "overflow_x": null,
            "grid_auto_flow": null,
            "grid_area": null,
            "grid_template_columns": null,
            "flex": null,
            "_model_name": "LayoutModel",
            "justify_items": null,
            "grid_row": null,
            "max_height": null,
            "align_content": null,
            "visibility": null,
            "align_self": null,
            "height": null,
            "min_height": null,
            "padding": null,
            "grid_auto_rows": null,
            "grid_gap": null,
            "max_width": null,
            "order": null,
            "_view_module_version": "1.2.0",
            "grid_template_areas": null,
            "object_position": null,
            "object_fit": null,
            "grid_auto_columns": null,
            "margin": null,
            "display": null,
            "left": null
          }
        }
      }
    },
    "accelerator": "GPU"
  },
  "cells": [
    {
      "cell_type": "markdown",
      "metadata": {
        "id": "mciE9M59xHBC"
      },
      "source": [
        "# Group 1 Final Project"
      ]
    },
    {
      "cell_type": "markdown",
      "metadata": {
        "id": "t16Cc_uFyuF_"
      },
      "source": [
        "## 0. Imports and installations"
      ]
    },
    {
      "cell_type": "code",
      "metadata": {
        "colab": {
          "base_uri": "https://localhost:8080/"
        },
        "id": "L7ZsWvfsyon4",
        "outputId": "feeea125-860b-4770-b156-e953cba64e80"
      },
      "source": [
        "!pip install unidecode\n",
        "!pip install contractions\n",
        "!pip3 install spacy\n",
        "!pip install transformers"
      ],
      "execution_count": 4,
      "outputs": [
        {
          "output_type": "stream",
          "name": "stdout",
          "text": [
            "Collecting unidecode\n",
            "  Downloading Unidecode-1.3.2-py3-none-any.whl (235 kB)\n",
            "\u001b[K     |████████████████████████████████| 235 kB 4.2 MB/s \n",
            "\u001b[?25hInstalling collected packages: unidecode\n",
            "Successfully installed unidecode-1.3.2\n",
            "Collecting contractions\n",
            "  Downloading contractions-0.0.58-py2.py3-none-any.whl (8.0 kB)\n",
            "Collecting textsearch>=0.0.21\n",
            "  Downloading textsearch-0.0.21-py2.py3-none-any.whl (7.5 kB)\n",
            "Collecting anyascii\n",
            "  Downloading anyascii-0.3.0-py3-none-any.whl (284 kB)\n",
            "\u001b[K     |████████████████████████████████| 284 kB 3.9 MB/s \n",
            "\u001b[?25hCollecting pyahocorasick\n",
            "  Downloading pyahocorasick-1.4.2.tar.gz (321 kB)\n",
            "\u001b[K     |████████████████████████████████| 321 kB 35.4 MB/s \n",
            "\u001b[?25hBuilding wheels for collected packages: pyahocorasick\n",
            "  Building wheel for pyahocorasick (setup.py) ... \u001b[?25l\u001b[?25hdone\n",
            "  Created wheel for pyahocorasick: filename=pyahocorasick-1.4.2-cp37-cp37m-linux_x86_64.whl size=85455 sha256=8a4348d54b32e9a3441ed8e4f767abcfffaaf60e28453ce511e5b4d9f7e07fa1\n",
            "  Stored in directory: /root/.cache/pip/wheels/25/19/a6/8f363d9939162782bb8439d886469756271abc01f76fbd790f\n",
            "Successfully built pyahocorasick\n",
            "Installing collected packages: pyahocorasick, anyascii, textsearch, contractions\n",
            "Successfully installed anyascii-0.3.0 contractions-0.0.58 pyahocorasick-1.4.2 textsearch-0.0.21\n",
            "Requirement already satisfied: spacy in /usr/local/lib/python3.7/dist-packages (2.2.4)\n",
            "Requirement already satisfied: cymem<2.1.0,>=2.0.2 in /usr/local/lib/python3.7/dist-packages (from spacy) (2.0.6)\n",
            "Requirement already satisfied: preshed<3.1.0,>=3.0.2 in /usr/local/lib/python3.7/dist-packages (from spacy) (3.0.6)\n",
            "Requirement already satisfied: murmurhash<1.1.0,>=0.28.0 in /usr/local/lib/python3.7/dist-packages (from spacy) (1.0.6)\n",
            "Requirement already satisfied: blis<0.5.0,>=0.4.0 in /usr/local/lib/python3.7/dist-packages (from spacy) (0.4.1)\n",
            "Requirement already satisfied: setuptools in /usr/local/lib/python3.7/dist-packages (from spacy) (57.4.0)\n",
            "Requirement already satisfied: tqdm<5.0.0,>=4.38.0 in /usr/local/lib/python3.7/dist-packages (from spacy) (4.62.3)\n",
            "Requirement already satisfied: requests<3.0.0,>=2.13.0 in /usr/local/lib/python3.7/dist-packages (from spacy) (2.23.0)\n",
            "Requirement already satisfied: plac<1.2.0,>=0.9.6 in /usr/local/lib/python3.7/dist-packages (from spacy) (1.1.3)\n",
            "Requirement already satisfied: numpy>=1.15.0 in /usr/local/lib/python3.7/dist-packages (from spacy) (1.19.5)\n",
            "Requirement already satisfied: wasabi<1.1.0,>=0.4.0 in /usr/local/lib/python3.7/dist-packages (from spacy) (0.8.2)\n",
            "Requirement already satisfied: srsly<1.1.0,>=1.0.2 in /usr/local/lib/python3.7/dist-packages (from spacy) (1.0.5)\n",
            "Requirement already satisfied: catalogue<1.1.0,>=0.0.7 in /usr/local/lib/python3.7/dist-packages (from spacy) (1.0.0)\n",
            "Requirement already satisfied: thinc==7.4.0 in /usr/local/lib/python3.7/dist-packages (from spacy) (7.4.0)\n",
            "Requirement already satisfied: importlib-metadata>=0.20 in /usr/local/lib/python3.7/dist-packages (from catalogue<1.1.0,>=0.0.7->spacy) (4.8.2)\n",
            "Requirement already satisfied: zipp>=0.5 in /usr/local/lib/python3.7/dist-packages (from importlib-metadata>=0.20->catalogue<1.1.0,>=0.0.7->spacy) (3.6.0)\n",
            "Requirement already satisfied: typing-extensions>=3.6.4 in /usr/local/lib/python3.7/dist-packages (from importlib-metadata>=0.20->catalogue<1.1.0,>=0.0.7->spacy) (3.10.0.2)\n",
            "Requirement already satisfied: urllib3!=1.25.0,!=1.25.1,<1.26,>=1.21.1 in /usr/local/lib/python3.7/dist-packages (from requests<3.0.0,>=2.13.0->spacy) (1.24.3)\n",
            "Requirement already satisfied: certifi>=2017.4.17 in /usr/local/lib/python3.7/dist-packages (from requests<3.0.0,>=2.13.0->spacy) (2021.10.8)\n",
            "Requirement already satisfied: chardet<4,>=3.0.2 in /usr/local/lib/python3.7/dist-packages (from requests<3.0.0,>=2.13.0->spacy) (3.0.4)\n",
            "Requirement already satisfied: idna<3,>=2.5 in /usr/local/lib/python3.7/dist-packages (from requests<3.0.0,>=2.13.0->spacy) (2.10)\n",
            "Collecting transformers\n",
            "  Downloading transformers-4.14.1-py3-none-any.whl (3.4 MB)\n",
            "\u001b[K     |████████████████████████████████| 3.4 MB 4.2 MB/s \n",
            "\u001b[?25hRequirement already satisfied: tqdm>=4.27 in /usr/local/lib/python3.7/dist-packages (from transformers) (4.62.3)\n",
            "Requirement already satisfied: importlib-metadata in /usr/local/lib/python3.7/dist-packages (from transformers) (4.8.2)\n",
            "Requirement already satisfied: regex!=2019.12.17 in /usr/local/lib/python3.7/dist-packages (from transformers) (2019.12.20)\n",
            "Requirement already satisfied: numpy>=1.17 in /usr/local/lib/python3.7/dist-packages (from transformers) (1.19.5)\n",
            "Collecting tokenizers<0.11,>=0.10.1\n",
            "  Downloading tokenizers-0.10.3-cp37-cp37m-manylinux_2_5_x86_64.manylinux1_x86_64.manylinux_2_12_x86_64.manylinux2010_x86_64.whl (3.3 MB)\n",
            "\u001b[K     |████████████████████████████████| 3.3 MB 38.2 MB/s \n",
            "\u001b[?25hRequirement already satisfied: packaging>=20.0 in /usr/local/lib/python3.7/dist-packages (from transformers) (21.3)\n",
            "Requirement already satisfied: filelock in /usr/local/lib/python3.7/dist-packages (from transformers) (3.4.0)\n",
            "Collecting huggingface-hub<1.0,>=0.1.0\n",
            "  Downloading huggingface_hub-0.2.1-py3-none-any.whl (61 kB)\n",
            "\u001b[K     |████████████████████████████████| 61 kB 562 kB/s \n",
            "\u001b[?25hCollecting pyyaml>=5.1\n",
            "  Downloading PyYAML-6.0-cp37-cp37m-manylinux_2_5_x86_64.manylinux1_x86_64.manylinux_2_12_x86_64.manylinux2010_x86_64.whl (596 kB)\n",
            "\u001b[K     |████████████████████████████████| 596 kB 45.1 MB/s \n",
            "\u001b[?25hRequirement already satisfied: requests in /usr/local/lib/python3.7/dist-packages (from transformers) (2.23.0)\n",
            "Collecting sacremoses\n",
            "  Downloading sacremoses-0.0.46-py3-none-any.whl (895 kB)\n",
            "\u001b[K     |████████████████████████████████| 895 kB 42.1 MB/s \n",
            "\u001b[?25hRequirement already satisfied: typing-extensions>=3.7.4.3 in /usr/local/lib/python3.7/dist-packages (from huggingface-hub<1.0,>=0.1.0->transformers) (3.10.0.2)\n",
            "Requirement already satisfied: pyparsing!=3.0.5,>=2.0.2 in /usr/local/lib/python3.7/dist-packages (from packaging>=20.0->transformers) (3.0.6)\n",
            "Requirement already satisfied: zipp>=0.5 in /usr/local/lib/python3.7/dist-packages (from importlib-metadata->transformers) (3.6.0)\n",
            "Requirement already satisfied: urllib3!=1.25.0,!=1.25.1,<1.26,>=1.21.1 in /usr/local/lib/python3.7/dist-packages (from requests->transformers) (1.24.3)\n",
            "Requirement already satisfied: certifi>=2017.4.17 in /usr/local/lib/python3.7/dist-packages (from requests->transformers) (2021.10.8)\n",
            "Requirement already satisfied: idna<3,>=2.5 in /usr/local/lib/python3.7/dist-packages (from requests->transformers) (2.10)\n",
            "Requirement already satisfied: chardet<4,>=3.0.2 in /usr/local/lib/python3.7/dist-packages (from requests->transformers) (3.0.4)\n",
            "Requirement already satisfied: six in /usr/local/lib/python3.7/dist-packages (from sacremoses->transformers) (1.15.0)\n",
            "Requirement already satisfied: click in /usr/local/lib/python3.7/dist-packages (from sacremoses->transformers) (7.1.2)\n",
            "Requirement already satisfied: joblib in /usr/local/lib/python3.7/dist-packages (from sacremoses->transformers) (1.1.0)\n",
            "Installing collected packages: pyyaml, tokenizers, sacremoses, huggingface-hub, transformers\n",
            "  Attempting uninstall: pyyaml\n",
            "    Found existing installation: PyYAML 3.13\n",
            "    Uninstalling PyYAML-3.13:\n",
            "      Successfully uninstalled PyYAML-3.13\n",
            "Successfully installed huggingface-hub-0.2.1 pyyaml-6.0 sacremoses-0.0.46 tokenizers-0.10.3 transformers-4.14.1\n"
          ]
        }
      ]
    },
    {
      "cell_type": "code",
      "metadata": {
        "id": "8WfXuTuqZEau"
      },
      "source": [
        "import numpy as np\n",
        "import pandas as pd\n",
        "from bs4 import BeautifulSoup\n",
        "from tqdm.notebook import tqdm\n",
        "import tensorflow as tf\n",
        "from tensorflow.keras.preprocessing.text import Tokenizer\n",
        "from tensorflow.keras.preprocessing.sequence import pad_sequences\n",
        "from tensorflow.keras.optimizers import Adam\n",
        "from tensorflow.keras.losses import SparseCategoricalCrossentropy\n",
        "import spacy\n",
        "import unidecode\n",
        "import contractions\n",
        "import transformers\n",
        "from transformers import TFBertForSequenceClassification\n",
        "from transformers import BertTokenizer\n",
        "from google.colab import files\n",
        "from sklearn.model_selection import train_test_split\n",
        "from sklearn.metrics import classification_report\n",
        "from sklearn.ensemble import RandomForestClassifier\n",
        "from sklearn.metrics import confusion_matrix\n",
        "from sklearn.feature_extraction.text import TfidfTransformer\n",
        "from sklearn.feature_extraction.text import TfidfVectorizer\n",
        "from sklearn.svm import LinearSVC"
      ],
      "execution_count": 5,
      "outputs": []
    },
    {
      "cell_type": "code",
      "metadata": {
        "colab": {
          "base_uri": "https://localhost:8080/"
        },
        "id": "OnCLvc7yyY6N",
        "outputId": "482a44bc-3148-4e9a-c8dc-c1efcf99dc23"
      },
      "source": [
        "# get the data from kaggle\n",
        "! mkdir -p ~/.kaggle;\n",
        "! cp kaggle.json ~/.kaggle/kaggle.json\n",
        "! chmod 600 ~/.kaggle/kaggle.json\n",
        "! kaggle datasets download -d arushchillar/disneyland-reviews\n",
        "! unzip disneyland-reviews.zip"
      ],
      "execution_count": 6,
      "outputs": [
        {
          "output_type": "stream",
          "name": "stdout",
          "text": [
            "cp: cannot stat 'kaggle.json': No such file or directory\n",
            "chmod: cannot access '/root/.kaggle/kaggle.json': No such file or directory\n",
            "Traceback (most recent call last):\n",
            "  File \"/usr/local/bin/kaggle\", line 5, in <module>\n",
            "    from kaggle.cli import main\n",
            "  File \"/usr/local/lib/python2.7/dist-packages/kaggle/__init__.py\", line 23, in <module>\n",
            "    api.authenticate()\n",
            "  File \"/usr/local/lib/python2.7/dist-packages/kaggle/api/kaggle_api_extended.py\", line 146, in authenticate\n",
            "    self.config_file, self.config_dir))\n",
            "IOError: Could not find kaggle.json. Make sure it's located in /root/.kaggle. Or use the environment method.\n",
            "unzip:  cannot find or open disneyland-reviews.zip, disneyland-reviews.zip.zip or disneyland-reviews.zip.ZIP.\n"
          ]
        }
      ]
    },
    {
      "cell_type": "markdown",
      "metadata": {
        "id": "7lf3RiCJ45JI"
      },
      "source": [
        "## 1. Data Exploration"
      ]
    },
    {
      "cell_type": "code",
      "metadata": {
        "colab": {
          "base_uri": "https://localhost:8080/",
          "height": 206
        },
        "id": "3O0BtmmgznTi",
        "outputId": "ead83fa1-4d22-4fe7-f66e-27aa24be0786"
      },
      "source": [
        "df = pd.read_csv('/content/DisneylandReviews.csv', encoding='latin-1')\n",
        "df.head()"
      ],
      "execution_count": 15,
      "outputs": [
        {
          "output_type": "execute_result",
          "data": {
            "text/html": [
              "<div>\n",
              "<style scoped>\n",
              "    .dataframe tbody tr th:only-of-type {\n",
              "        vertical-align: middle;\n",
              "    }\n",
              "\n",
              "    .dataframe tbody tr th {\n",
              "        vertical-align: top;\n",
              "    }\n",
              "\n",
              "    .dataframe thead th {\n",
              "        text-align: right;\n",
              "    }\n",
              "</style>\n",
              "<table border=\"1\" class=\"dataframe\">\n",
              "  <thead>\n",
              "    <tr style=\"text-align: right;\">\n",
              "      <th></th>\n",
              "      <th>Review_ID</th>\n",
              "      <th>Rating</th>\n",
              "      <th>Year_Month</th>\n",
              "      <th>Reviewer_Location</th>\n",
              "      <th>Review_Text</th>\n",
              "      <th>Branch</th>\n",
              "    </tr>\n",
              "  </thead>\n",
              "  <tbody>\n",
              "    <tr>\n",
              "      <th>0</th>\n",
              "      <td>670772142</td>\n",
              "      <td>4</td>\n",
              "      <td>2019-4</td>\n",
              "      <td>Australia</td>\n",
              "      <td>If you've ever been to Disneyland anywhere you...</td>\n",
              "      <td>Disneyland_HongKong</td>\n",
              "    </tr>\n",
              "    <tr>\n",
              "      <th>1</th>\n",
              "      <td>670682799</td>\n",
              "      <td>4</td>\n",
              "      <td>2019-5</td>\n",
              "      <td>Philippines</td>\n",
              "      <td>Its been a while since d last time we visit HK...</td>\n",
              "      <td>Disneyland_HongKong</td>\n",
              "    </tr>\n",
              "    <tr>\n",
              "      <th>2</th>\n",
              "      <td>670623270</td>\n",
              "      <td>4</td>\n",
              "      <td>2019-4</td>\n",
              "      <td>United Arab Emirates</td>\n",
              "      <td>Thanks God it wasn   t too hot or too humid wh...</td>\n",
              "      <td>Disneyland_HongKong</td>\n",
              "    </tr>\n",
              "    <tr>\n",
              "      <th>3</th>\n",
              "      <td>670607911</td>\n",
              "      <td>4</td>\n",
              "      <td>2019-4</td>\n",
              "      <td>Australia</td>\n",
              "      <td>HK Disneyland is a great compact park. Unfortu...</td>\n",
              "      <td>Disneyland_HongKong</td>\n",
              "    </tr>\n",
              "    <tr>\n",
              "      <th>4</th>\n",
              "      <td>670607296</td>\n",
              "      <td>4</td>\n",
              "      <td>2019-4</td>\n",
              "      <td>United Kingdom</td>\n",
              "      <td>the location is not in the city, took around 1...</td>\n",
              "      <td>Disneyland_HongKong</td>\n",
              "    </tr>\n",
              "  </tbody>\n",
              "</table>\n",
              "</div>"
            ],
            "text/plain": [
              "   Review_ID  ...               Branch\n",
              "0  670772142  ...  Disneyland_HongKong\n",
              "1  670682799  ...  Disneyland_HongKong\n",
              "2  670623270  ...  Disneyland_HongKong\n",
              "3  670607911  ...  Disneyland_HongKong\n",
              "4  670607296  ...  Disneyland_HongKong\n",
              "\n",
              "[5 rows x 6 columns]"
            ]
          },
          "metadata": {},
          "execution_count": 15
        }
      ]
    },
    {
      "cell_type": "code",
      "execution_count": 16,
      "metadata": {
        "id": "qeMTBUva45JK",
        "outputId": "94827e96-47cb-479a-8cb5-adfcbb82679d",
        "colab": {
          "base_uri": "https://localhost:8080/"
        }
      },
      "outputs": [
        {
          "output_type": "execute_result",
          "data": {
            "text/plain": [
              "5    23146\n",
              "4    10775\n",
              "3     5109\n",
              "2     2127\n",
              "1     1499\n",
              "Name: Rating, dtype: int64"
            ]
          },
          "metadata": {},
          "execution_count": 16
        }
      ],
      "source": [
        "df.Rating.value_counts()"
      ]
    },
    {
      "cell_type": "markdown",
      "metadata": {
        "id": "GPz7s3-m45JL"
      },
      "source": [
        "We have a lot of 5 stars ratings compared to the other categories. "
      ]
    },
    {
      "cell_type": "code",
      "execution_count": 17,
      "metadata": {
        "id": "Or9nCKM645JM",
        "outputId": "7ce9a63b-2083-43dc-eac9-942dafa2461c",
        "colab": {
          "base_uri": "https://localhost:8080/"
        }
      },
      "outputs": [
        {
          "output_type": "execute_result",
          "data": {
            "text/plain": [
              "('2010-10', '2019-5')"
            ]
          },
          "metadata": {},
          "execution_count": 17
        }
      ],
      "source": [
        "df.Year_Month.min(), df.Year_Month[df.Year_Month != 'missing'].max()"
      ]
    },
    {
      "cell_type": "markdown",
      "metadata": {
        "id": "n05jJiMT45JN"
      },
      "source": [
        "The reviews were written between 2010 and 2019. "
      ]
    },
    {
      "cell_type": "code",
      "execution_count": 18,
      "metadata": {
        "id": "9Ww908iS45JN",
        "outputId": "def26693-ee4b-4ba6-f4e0-98e8f7ec4bbb",
        "colab": {
          "base_uri": "https://localhost:8080/"
        }
      },
      "outputs": [
        {
          "output_type": "execute_result",
          "data": {
            "text/plain": [
              "array(['Australia', 'Philippines', 'United Arab Emirates',\n",
              "       'United Kingdom', 'Singapore', 'India', 'Malaysia',\n",
              "       'United States', 'Canada', 'Myanmar (Burma)', 'Hong Kong', 'China',\n",
              "       'Indonesia', 'Qatar', 'New Zealand', 'Sri Lanka', 'Uganda',\n",
              "       'Thailand', 'Austria', 'South Africa', 'Saudi Arabia', 'Japan',\n",
              "       'Israel', 'South Korea', 'Turkey', 'Macau', 'Egypt', 'Mexico',\n",
              "       'Mauritius', 'Sweden', 'Brazil', 'Kenya', 'Vietnam', 'Portugal',\n",
              "       'Cambodia', 'Zambia', 'Croatia', 'France', 'Taiwan', 'Oman',\n",
              "       'Colombia', 'Norway', 'Kuwait', 'Netherlands', 'Barbados',\n",
              "       'Finland', 'Bosnia and Herzegovina', 'Brunei', 'Bahrain',\n",
              "       'Maldives', 'Ireland', 'Russia', 'Romania',\n",
              "       'Northern Mariana Islands', 'Germany', 'Chile', 'Isle of Man',\n",
              "       'Pakistan', 'Ukraine', 'Greece', 'Switzerland', 'Spain', 'Estonia',\n",
              "       \"Côte d'Ivoire\", 'Guam', 'Bangladesh', 'Belgium', 'Italy',\n",
              "       'Botswana', 'Denmark', 'Argentina', 'Peru', 'Lithuania', 'Iran',\n",
              "       'Mali', 'Uruguay', 'Mongolia', 'Zimbabwe', 'Seychelles',\n",
              "       'Puerto Rico', 'Hungary', 'Fiji', 'Nepal', 'Jordan', 'Cyprus',\n",
              "       'Venezuela', 'Dominican Republic', 'Czechia', 'Bulgaria', 'Ghana',\n",
              "       'Ethiopia', 'The Bahamas', 'Serbia', 'Montenegro', 'Guatemala',\n",
              "       'Kazakhstan', 'Poland', 'Vanuatu', 'Laos', 'Curaçao',\n",
              "       'Falkland Islands (Islas Malvinas)', 'Andorra', 'Haiti',\n",
              "       'Costa Rica', 'Nigeria', 'Jersey', 'Solomon Islands', 'Mozambique',\n",
              "       'Cook Islands', 'South Sudan', 'Gibraltar', 'Trinidad and Tobago',\n",
              "       'Afghanistan', 'Timor-Leste', 'Luxembourg', 'Rwanda', 'Tanzania',\n",
              "       'Lebanon', 'Ecuador', 'Turks and Caicos Islands', 'Malta',\n",
              "       'U.S. Virgin Islands', 'Slovakia', 'Iceland', 'Aruba',\n",
              "       'French Polynesia', 'Tunisia', 'Armenia', 'Panama', 'Namibia',\n",
              "       'Cuba', 'Honduras', 'Nicaragua', 'Bolivia', 'Papua New Guinea',\n",
              "       'Iraq', 'Caribbean Netherlands', 'Morocco', 'Jamaica',\n",
              "       'Cayman Islands', 'North Macedonia', 'Albania',\n",
              "       'Antigua and Barbuda', 'Uzbekistan', 'Azerbaijan', 'Latvia',\n",
              "       'Suriname', 'Algeria', 'Grenada', 'Malawi', 'Monaco', 'Guernsey',\n",
              "       'Georgia', 'Moldova', 'Senegal', 'Libya', 'Madagascar',\n",
              "       'Democratic Republic of the Congo', 'El Salvador', 'Slovenia',\n",
              "       'Sudan', 'Åland Islands'], dtype=object)"
            ]
          },
          "metadata": {},
          "execution_count": 18
        }
      ],
      "source": [
        "df.Reviewer_Location.unique()"
      ]
    },
    {
      "cell_type": "markdown",
      "metadata": {
        "id": "r2u-4tFo45JO"
      },
      "source": [
        "The reviews come from many different locations."
      ]
    },
    {
      "cell_type": "code",
      "execution_count": 19,
      "metadata": {
        "id": "X8nMjQc945JO",
        "outputId": "7557e2a0-cf8e-4710-d6dd-e4b451165638",
        "colab": {
          "base_uri": "https://localhost:8080/"
        }
      },
      "outputs": [
        {
          "output_type": "execute_result",
          "data": {
            "text/plain": [
              "array(['Disneyland_HongKong', 'Disneyland_California', 'Disneyland_Paris'],\n",
              "      dtype=object)"
            ]
          },
          "metadata": {},
          "execution_count": 19
        }
      ],
      "source": [
        "df.Branch.unique()"
      ]
    },
    {
      "cell_type": "markdown",
      "metadata": {
        "id": "eMsvVOB945JO"
      },
      "source": [
        "The reviews concern three Disneyland parks: Paris, California and Hong kong. "
      ]
    },
    {
      "cell_type": "code",
      "execution_count": 20,
      "metadata": {
        "id": "qhgI3Blg45JP",
        "outputId": "61c860a0-b479-4967-85a1-00666a696c09",
        "colab": {
          "base_uri": "https://localhost:8080/"
        }
      },
      "outputs": [
        {
          "output_type": "execute_result",
          "data": {
            "text/plain": [
              "696.8175403225806"
            ]
          },
          "metadata": {},
          "execution_count": 20
        }
      ],
      "source": [
        "df.Review_Text.str.len().mean()"
      ]
    },
    {
      "cell_type": "markdown",
      "metadata": {
        "id": "k4DTINSm45JP"
      },
      "source": [
        "The average review contains 697 characters. "
      ]
    },
    {
      "cell_type": "markdown",
      "metadata": {
        "id": "5Q9BIqE1xHBI"
      },
      "source": [
        "## 2. Preprocessing"
      ]
    },
    {
      "cell_type": "code",
      "metadata": {
        "id": "mCPr9tlFzH6z"
      },
      "source": [
        "# function used to clean the text from stopwords, punctuations etc.\n",
        "\n",
        "nlp = spacy.load('en_core_web_sm')\n",
        "\n",
        "def strip_html_tags(text):\n",
        "    \"\"\"remove html tags from text\"\"\"\n",
        "    soup = BeautifulSoup(text, \"html.parser\")\n",
        "    stripped_text = soup.get_text(separator=\" \")\n",
        "    return stripped_text\n",
        "\n",
        "\n",
        "def remove_whitespace(text):\n",
        "    \"\"\"remove extra whitespaces from text\"\"\"\n",
        "    text = text.strip()\n",
        "    return \" \".join(text.split())\n",
        "\n",
        "\n",
        "def remove_accented_chars(text):\n",
        "    \"\"\"remove accented characters from text, e.g. café\"\"\"\n",
        "    text = unidecode.unidecode(text)\n",
        "    return text\n",
        "\n",
        "\n",
        "def expand_contractions(text):\n",
        "    \"\"\"expand shortened words, e.g. don't to do not\"\"\"\n",
        "    text = contractions.fix(text)\n",
        "    return text\n",
        "\n",
        "\n",
        "def text_preprocessing(text, accented_chars=True, contractions=True, \n",
        "                       convert_num=True, extra_whitespace=True, \n",
        "                       lemmatization=True, lowercase=True, punctuations=True,\n",
        "                       remove_html=True, remove_num=True, special_chars=True, \n",
        "                       stop_words=True):\n",
        "    \"\"\"preprocess text with default option set to true for all steps\"\"\"\n",
        "    if remove_html == True: #remove html tags\n",
        "        text = strip_html_tags(text)\n",
        "    if extra_whitespace == True: #remove extra whitespaces\n",
        "        text = remove_whitespace(text)\n",
        "    if accented_chars == True: #remove accented characters\n",
        "        text = remove_accented_chars(text)\n",
        "    if contractions == True: #expand contractions\n",
        "        text = expand_contractions(text)\n",
        "    if lowercase == True: #convert all characters to lowercase\n",
        "        text = text.lower()\n",
        "\n",
        "    doc = nlp(text) #tokenise text\n",
        "\n",
        "    clean_text = []\n",
        "    \n",
        "    for token in doc:\n",
        "        flag = True\n",
        "        edit = token.text\n",
        "        # remove stop words\n",
        "        if stop_words == True and token.is_stop and token.pos_ != 'NUM': \n",
        "            flag = False\n",
        "        # remove punctuations\n",
        "        if punctuations == True and token.pos_ == 'PUNCT' and flag == True: \n",
        "            flag = False\n",
        "        # remove special characters\n",
        "        if special_chars == True and token.pos_ == 'SYM' and flag == True: \n",
        "            flag = False\n",
        "        # remove numbers\n",
        "        if remove_num == True and (token.pos_ == 'NUM' or token.text.isnumeric()) \\\n",
        "        and flag == True:\n",
        "            flag = False\n",
        "        # convert number words to numeric numbers\n",
        "        if convert_num == True and token.pos_ == 'NUM' and flag == True:\n",
        "            edit = w2n.word_to_num(token.text)\n",
        "        # convert tokens to base form\n",
        "        elif lemmatization == True and token.lemma_ != \"-PRON-\" and flag == True:\n",
        "            edit = token.lemma_\n",
        "        # append tokens edited and not removed to list \n",
        "        if edit != \"\" and flag == True:\n",
        "            clean_text.append(edit)        \n",
        "    return clean_text"
      ],
      "execution_count": 21,
      "outputs": []
    },
    {
      "cell_type": "code",
      "metadata": {
        "colab": {
          "base_uri": "https://localhost:8080/",
          "height": 136,
          "referenced_widgets": [
            "0369a3a1c4b9405e83b6856ff35d961c",
            "003713aeb3ce4afc9dd2fc4d4f27087a",
            "0ea74d390bee448eb58f1414eccc1905",
            "e2d7489468b2456cba9ab39ff3a24b45",
            "f88b2c2b1c5c46568549c63d15bf9c7a",
            "58fc5698088f4f12abb2aa5056e14549",
            "ba7fd73df3714abd864d732001b55097",
            "1114a224846d4c9c8e450113f02c67ef",
            "903f76124e17429097786c874203770b",
            "11b7e3f2637a49da81c4c40e18a8cea0",
            "fb1024e7bab14d7687fed2f2e0a429e6"
          ]
        },
        "id": "jkTjsyWUzlHf",
        "outputId": "ddb404ed-d63d-4615-f4a4-4f4b789bb27d"
      },
      "source": [
        "# preprocessing\n",
        "df['processed_text'] = 0\n",
        "for i in tqdm(range(43)):\n",
        "  df['processed_text'][i * 1000:(i+1) *1000] = df['Review_Text'][i * 1000:(i+1) *1000].apply(text_preprocessing)"
      ],
      "execution_count": 22,
      "outputs": [
        {
          "output_type": "display_data",
          "data": {
            "application/vnd.jupyter.widget-view+json": {
              "model_id": "0369a3a1c4b9405e83b6856ff35d961c",
              "version_minor": 0,
              "version_major": 2
            },
            "text/plain": [
              "  0%|          | 0/43 [00:00<?, ?it/s]"
            ]
          },
          "metadata": {}
        },
        {
          "output_type": "stream",
          "name": "stderr",
          "text": [
            "/usr/local/lib/python3.7/dist-packages/ipykernel_launcher.py:4: SettingWithCopyWarning: \n",
            "A value is trying to be set on a copy of a slice from a DataFrame\n",
            "\n",
            "See the caveats in the documentation: https://pandas.pydata.org/pandas-docs/stable/user_guide/indexing.html#returning-a-view-versus-a-copy\n",
            "  after removing the cwd from sys.path.\n"
          ]
        }
      ]
    },
    {
      "cell_type": "code",
      "metadata": {
        "id": "gwfKCQAM21WG"
      },
      "source": [
        "# it took a long time so lets save the df\n",
        "df['processed_text'] = df['processed_text'].str.join(' ')\n",
        "df.to_csv('processed_data.csv')"
      ],
      "execution_count": 23,
      "outputs": []
    },
    {
      "cell_type": "code",
      "metadata": {
        "colab": {
          "base_uri": "https://localhost:8080/",
          "height": 206
        },
        "id": "RbOxuCtO3CjU",
        "outputId": "bac746c7-f651-4c97-d7f6-b2bc55fc5b13"
      },
      "source": [
        "df.head()"
      ],
      "execution_count": 24,
      "outputs": [
        {
          "output_type": "execute_result",
          "data": {
            "text/html": [
              "<div>\n",
              "<style scoped>\n",
              "    .dataframe tbody tr th:only-of-type {\n",
              "        vertical-align: middle;\n",
              "    }\n",
              "\n",
              "    .dataframe tbody tr th {\n",
              "        vertical-align: top;\n",
              "    }\n",
              "\n",
              "    .dataframe thead th {\n",
              "        text-align: right;\n",
              "    }\n",
              "</style>\n",
              "<table border=\"1\" class=\"dataframe\">\n",
              "  <thead>\n",
              "    <tr style=\"text-align: right;\">\n",
              "      <th></th>\n",
              "      <th>Review_ID</th>\n",
              "      <th>Rating</th>\n",
              "      <th>Year_Month</th>\n",
              "      <th>Reviewer_Location</th>\n",
              "      <th>Review_Text</th>\n",
              "      <th>Branch</th>\n",
              "      <th>processed_text</th>\n",
              "    </tr>\n",
              "  </thead>\n",
              "  <tbody>\n",
              "    <tr>\n",
              "      <th>0</th>\n",
              "      <td>670772142</td>\n",
              "      <td>4</td>\n",
              "      <td>2019-4</td>\n",
              "      <td>Australia</td>\n",
              "      <td>If you've ever been to Disneyland anywhere you...</td>\n",
              "      <td>Disneyland_HongKong</td>\n",
              "      <td>disneyland find disneyland hong kong similar l...</td>\n",
              "    </tr>\n",
              "    <tr>\n",
              "      <th>1</th>\n",
              "      <td>670682799</td>\n",
              "      <td>4</td>\n",
              "      <td>2019-5</td>\n",
              "      <td>Philippines</td>\n",
              "      <td>Its been a while since d last time we visit HK...</td>\n",
              "      <td>Disneyland_HongKong</td>\n",
              "      <td>d time visit hk disneyland time stay tomorrowl...</td>\n",
              "    </tr>\n",
              "    <tr>\n",
              "      <th>2</th>\n",
              "      <td>670623270</td>\n",
              "      <td>4</td>\n",
              "      <td>2019-4</td>\n",
              "      <td>United Arab Emirates</td>\n",
              "      <td>Thanks God it wasn   t too hot or too humid wh...</td>\n",
              "      <td>Disneyland_HongKong</td>\n",
              "      <td>thanks god wasn t hot humid visit park big iss...</td>\n",
              "    </tr>\n",
              "    <tr>\n",
              "      <th>3</th>\n",
              "      <td>670607911</td>\n",
              "      <td>4</td>\n",
              "      <td>2019-4</td>\n",
              "      <td>Australia</td>\n",
              "      <td>HK Disneyland is a great compact park. Unfortu...</td>\n",
              "      <td>Disneyland_HongKong</td>\n",
              "      <td>hk disneyland great compact park unfortunately...</td>\n",
              "    </tr>\n",
              "    <tr>\n",
              "      <th>4</th>\n",
              "      <td>670607296</td>\n",
              "      <td>4</td>\n",
              "      <td>2019-4</td>\n",
              "      <td>United Kingdom</td>\n",
              "      <td>the location is not in the city, took around 1...</td>\n",
              "      <td>Disneyland_HongKong</td>\n",
              "      <td>location city take hour kowlon kid like disney...</td>\n",
              "    </tr>\n",
              "  </tbody>\n",
              "</table>\n",
              "</div>"
            ],
            "text/plain": [
              "   Review_ID  ...                                     processed_text\n",
              "0  670772142  ...  disneyland find disneyland hong kong similar l...\n",
              "1  670682799  ...  d time visit hk disneyland time stay tomorrowl...\n",
              "2  670623270  ...  thanks god wasn t hot humid visit park big iss...\n",
              "3  670607911  ...  hk disneyland great compact park unfortunately...\n",
              "4  670607296  ...  location city take hour kowlon kid like disney...\n",
              "\n",
              "[5 rows x 7 columns]"
            ]
          },
          "metadata": {},
          "execution_count": 24
        }
      ]
    },
    {
      "cell_type": "code",
      "metadata": {
        "id": "DPWskPIQZbHl"
      },
      "source": [
        "# function used for tokanization, padding and data splitting\n",
        "\n",
        "def get_sequences(texts, tokenizer, train=True, max_seq_length=None):\n",
        "    sequences = tokenizer.texts_to_sequences(texts)\n",
        "    \n",
        "    if train == True:\n",
        "        max_seq_length = np.max(list(map(len, sequences)))\n",
        "    \n",
        "    sequences = pad_sequences(sequences, maxlen=max_seq_length, padding='post')\n",
        "    \n",
        "    return sequences\n",
        "\n",
        "\n",
        "def preprocess_inputs(df):\n",
        "    df = df.copy()\n",
        "    \n",
        "    # Limit data to only the review and rating column\n",
        "    y = df['Rating']\n",
        "    X = df['processed_text']\n",
        "    \n",
        "    # Train-test split\n",
        "    X_train, X_test, y_train, y_test = train_test_split(X, y, train_size=0.7, shuffle=True, random_state=1)\n",
        "    \n",
        "    # Fit tokenizer\n",
        "    tokenizer = Tokenizer()\n",
        "    tokenizer.fit_on_texts(X_train)\n",
        "    print(\"Vocab length:\", len(tokenizer.word_index) + 1)\n",
        "    \n",
        "    # Convert texts to sequences\n",
        "    X_train = get_sequences(X_train, tokenizer, train=True)\n",
        "    X_test = get_sequences(X_test, tokenizer, train=False, max_seq_length=X_train.shape[1])\n",
        "    \n",
        "    return X_train, X_test, y_train, y_test, tokenizer"
      ],
      "execution_count": 25,
      "outputs": []
    },
    {
      "cell_type": "code",
      "metadata": {
        "colab": {
          "base_uri": "https://localhost:8080/"
        },
        "id": "sLHdZ75zZbMj",
        "outputId": "1d96dc4a-b164-4c00-99df-3268a6ab0231"
      },
      "source": [
        "# spliting the data\n",
        "\n",
        "X_train, X_test, y_train, y_test, tokenizer = preprocess_inputs(df)"
      ],
      "execution_count": 26,
      "outputs": [
        {
          "output_type": "stream",
          "name": "stdout",
          "text": [
            "Vocab length: 29574\n"
          ]
        }
      ]
    },
    {
      "cell_type": "markdown",
      "metadata": {
        "id": "mHCf4-gZxHBL"
      },
      "source": [
        "## 3. Models and results"
      ]
    },
    {
      "cell_type": "markdown",
      "metadata": {
        "id": "EY9ANkzr-xNy"
      },
      "source": [
        "### 3.1 Classic ML models"
      ]
    },
    {
      "cell_type": "markdown",
      "metadata": {
        "id": "wqfuERN4-3zO"
      },
      "source": [
        "#### 3.1.1 RF"
      ]
    },
    {
      "cell_type": "code",
      "metadata": {
        "id": "VkYuPYDL9qZ3"
      },
      "source": [
        "rf_model =  RandomForestClassifier(n_estimators = 100)\n",
        "_ = rf_model.fit(X_train, y_train)"
      ],
      "execution_count": 27,
      "outputs": []
    },
    {
      "cell_type": "code",
      "metadata": {
        "id": "4hsawM4V9qZ3",
        "colab": {
          "base_uri": "https://localhost:8080/"
        },
        "outputId": "d709afaf-197e-4e97-ef4e-bcb63838f588"
      },
      "source": [
        "rf_preds = rf_model.predict(X_test)\n",
        "print(classification_report(y_test, rf_preds))"
      ],
      "execution_count": 28,
      "outputs": [
        {
          "output_type": "stream",
          "name": "stdout",
          "text": [
            "              precision    recall  f1-score   support\n",
            "\n",
            "           1       0.00      0.00      0.00       440\n",
            "           2       1.00      0.00      0.00       638\n",
            "           3       0.00      0.00      0.00      1472\n",
            "           4       0.27      0.03      0.06      3243\n",
            "           5       0.55      0.98      0.70      7004\n",
            "\n",
            "    accuracy                           0.54     12797\n",
            "   macro avg       0.36      0.20      0.15     12797\n",
            "weighted avg       0.42      0.54      0.40     12797\n",
            "\n"
          ]
        },
        {
          "output_type": "stream",
          "name": "stderr",
          "text": [
            "/usr/local/lib/python3.7/dist-packages/sklearn/metrics/_classification.py:1308: UndefinedMetricWarning: Precision and F-score are ill-defined and being set to 0.0 in labels with no predicted samples. Use `zero_division` parameter to control this behavior.\n",
            "  _warn_prf(average, modifier, msg_start, len(result))\n",
            "/usr/local/lib/python3.7/dist-packages/sklearn/metrics/_classification.py:1308: UndefinedMetricWarning: Precision and F-score are ill-defined and being set to 0.0 in labels with no predicted samples. Use `zero_division` parameter to control this behavior.\n",
            "  _warn_prf(average, modifier, msg_start, len(result))\n",
            "/usr/local/lib/python3.7/dist-packages/sklearn/metrics/_classification.py:1308: UndefinedMetricWarning: Precision and F-score are ill-defined and being set to 0.0 in labels with no predicted samples. Use `zero_division` parameter to control this behavior.\n",
            "  _warn_prf(average, modifier, msg_start, len(result))\n"
          ]
        }
      ]
    },
    {
      "cell_type": "markdown",
      "source": [
        "RF's accuracy is similar to the baseline, perhapse due to the sparsity of the input data."
      ],
      "metadata": {
        "id": "93wmJJ5E1I03"
      }
    },
    {
      "cell_type": "markdown",
      "metadata": {
        "id": "f2qW1sX9-4Ay"
      },
      "source": [
        "#### 3.1.2 SVM"
      ]
    },
    {
      "cell_type": "code",
      "metadata": {
        "id": "wEsmcY2I9qZy",
        "colab": {
          "base_uri": "https://localhost:8080/"
        },
        "outputId": "a8e6337a-44ed-4beb-cf32-13c85f4405b1"
      },
      "source": [
        "svm_model = LinearSVC()\n",
        "_ = svm_model.fit(X_train, y_train)"
      ],
      "execution_count": 29,
      "outputs": [
        {
          "output_type": "stream",
          "name": "stderr",
          "text": [
            "/usr/local/lib/python3.7/dist-packages/sklearn/svm/_base.py:1208: ConvergenceWarning: Liblinear failed to converge, increase the number of iterations.\n",
            "  ConvergenceWarning,\n"
          ]
        }
      ]
    },
    {
      "cell_type": "code",
      "metadata": {
        "id": "4UCcYpjq9qZz",
        "colab": {
          "base_uri": "https://localhost:8080/"
        },
        "outputId": "ed70ad85-bd99-476f-8da4-4441c035617e"
      },
      "source": [
        "svm_preds = svm_model.predict(X_test)\n",
        "print(classification_report(y_test, svm_preds))"
      ],
      "execution_count": 30,
      "outputs": [
        {
          "output_type": "stream",
          "name": "stdout",
          "text": [
            "              precision    recall  f1-score   support\n",
            "\n",
            "           1       0.03      0.03      0.03       440\n",
            "           2       0.07      0.20      0.10       638\n",
            "           3       0.12      0.09      0.10      1472\n",
            "           4       0.25      0.34      0.29      3243\n",
            "           5       0.59      0.43      0.49      7004\n",
            "\n",
            "    accuracy                           0.34     12797\n",
            "   macro avg       0.21      0.22      0.20     12797\n",
            "weighted avg       0.40      0.34      0.36     12797\n",
            "\n"
          ]
        }
      ]
    },
    {
      "cell_type": "markdown",
      "metadata": {
        "id": "e1Obhhy9gfP8"
      },
      "source": [
        "The SVM model have a very low accuracy, lets try to binaries the labels and see how he deals with it:"
      ]
    },
    {
      "cell_type": "code",
      "metadata": {
        "id": "R4uAj6Mr9qZz"
      },
      "source": [
        "y_train_binary = y_train.apply(lambda x: 0 if x <4 else 1)\n",
        "y_test_binary = y_test.apply(lambda x: 0 if x <4 else 1)"
      ],
      "execution_count": 31,
      "outputs": []
    },
    {
      "cell_type": "code",
      "metadata": {
        "id": "ccDm_Wda9qZz",
        "colab": {
          "base_uri": "https://localhost:8080/"
        },
        "outputId": "ec14f9b5-8930-4b5b-f07c-6cd20f9b59a7"
      },
      "source": [
        "svm_binary_model = LinearSVC()\n",
        "_ = svm_binary_model.fit(X_train, y_train_binary)"
      ],
      "execution_count": 32,
      "outputs": [
        {
          "output_type": "stream",
          "name": "stderr",
          "text": [
            "/usr/local/lib/python3.7/dist-packages/sklearn/svm/_base.py:1208: ConvergenceWarning: Liblinear failed to converge, increase the number of iterations.\n",
            "  ConvergenceWarning,\n"
          ]
        }
      ]
    },
    {
      "cell_type": "code",
      "metadata": {
        "id": "OuflGJTU9qZ0",
        "colab": {
          "base_uri": "https://localhost:8080/"
        },
        "outputId": "2fcc9d28-2902-4338-ef21-c6827456a642"
      },
      "source": [
        "svm_binary_preds = svm_binary_model.predict(X_test)\n",
        "print(classification_report(y_test_binary, svm_binary_preds))"
      ],
      "execution_count": 33,
      "outputs": [
        {
          "output_type": "stream",
          "name": "stdout",
          "text": [
            "              precision    recall  f1-score   support\n",
            "\n",
            "           0       0.30      0.21      0.25      2550\n",
            "           1       0.82      0.88      0.85     10247\n",
            "\n",
            "    accuracy                           0.75     12797\n",
            "   macro avg       0.56      0.54      0.55     12797\n",
            "weighted avg       0.71      0.75      0.73     12797\n",
            "\n"
          ]
        }
      ]
    },
    {
      "cell_type": "markdown",
      "metadata": {
        "id": "KGZ4ldunxHBM"
      },
      "source": [
        "### 3.2 DL models"
      ]
    },
    {
      "cell_type": "markdown",
      "metadata": {
        "id": "vrhgp27PAxiP"
      },
      "source": [
        "#### 3.2.1 Word2Vec"
      ]
    },
    {
      "cell_type": "code",
      "metadata": {
        "colab": {
          "base_uri": "https://localhost:8080/"
        },
        "id": "esdY_aDoZbO3",
        "outputId": "ee876556-1d01-482f-a67b-a85f6e59a5d2"
      },
      "source": [
        "# NN was used as a regression model in this case\n",
        "\n",
        "inputs = tf.keras.Input(shape=(1645,))\n",
        "x = tf.keras.layers.Embedding(\n",
        "    input_dim=37846,\n",
        "    output_dim=64\n",
        ")(inputs)\n",
        "x = tf.keras.layers.Flatten()(x)\n",
        "x = tf.keras.layers.Dense(128, activation='relu')(x)\n",
        "x = tf.keras.layers.Dense(128, activation='relu')(x)\n",
        "outputs = tf.keras.layers.Dense(1, activation='linear')(x)\n",
        "\n",
        "w2v_model = tf.keras.Model(inputs=inputs, outputs=outputs)\n",
        "\n",
        "w2v_model.compile(\n",
        "    optimizer='adam',\n",
        "    loss='mse'\n",
        ")\n",
        "\n",
        "history = w2v_model.fit(\n",
        "    X_train,\n",
        "    y_train,\n",
        "    validation_split=0.2,\n",
        "    batch_size=32,\n",
        "    epochs=100,\n",
        "    callbacks=[\n",
        "        tf.keras.callbacks.EarlyStopping(\n",
        "            monitor='val_loss',\n",
        "            patience=4,\n",
        "            restore_best_weights=True\n",
        "        )\n",
        "    ], verbose=1\n",
        ")\n",
        "\n",
        "# try both regression and classification?"
      ],
      "execution_count": null,
      "outputs": [
        {
          "output_type": "stream",
          "name": "stdout",
          "text": [
            "Epoch 1/100\n",
            "747/747 [==============================] - 15s 16ms/step - loss: 0.8205 - val_loss: 0.5701\n",
            "Epoch 2/100\n",
            "747/747 [==============================] - 12s 16ms/step - loss: 0.4240 - val_loss: 0.6944\n",
            "Epoch 3/100\n",
            "747/747 [==============================] - 12s 16ms/step - loss: 0.2406 - val_loss: 0.6223\n",
            "Epoch 4/100\n",
            "747/747 [==============================] - 12s 16ms/step - loss: 0.1522 - val_loss: 0.6100\n",
            "Epoch 5/100\n",
            "747/747 [==============================] - 12s 16ms/step - loss: 0.1140 - val_loss: 0.6382\n"
          ]
        }
      ]
    },
    {
      "cell_type": "code",
      "metadata": {
        "id": "yZnpIRm9Z9xG"
      },
      "source": [
        "w2v_y_pred = np.squeeze(w2v_model.predict(X_test))\n",
        "w2v_y_pred_int = pd.Series(w2v_y_pred).apply(lambda x: round(x))\n",
        "print(classification_report(y_test, w2v_y_pred_int))"
      ],
      "execution_count": null,
      "outputs": []
    },
    {
      "cell_type": "code",
      "metadata": {
        "colab": {
          "base_uri": "https://localhost:8080/"
        },
        "id": "hxilVf4ZPf8m",
        "outputId": "23156639-76ee-4a2f-89d2-738a3b554c27"
      },
      "source": [
        "print(classification_report(y_test, y_pred_int_))"
      ],
      "execution_count": null,
      "outputs": [
        {
          "name": "stdout",
          "output_type": "stream",
          "text": [
            "              precision    recall  f1-score   support\n",
            "\n",
            "           1       0.60      0.03      0.05       440\n",
            "           2       0.33      0.30      0.32       638\n",
            "           3       0.35      0.42      0.38      1472\n",
            "           4       0.35      0.48      0.41      3243\n",
            "           5       0.78      0.67      0.72      7004\n",
            "           6       0.00      0.00      0.00         0\n",
            "\n",
            "    accuracy                           0.55     12797\n",
            "   macro avg       0.40      0.32      0.31     12797\n",
            "weighted avg       0.60      0.55      0.56     12797\n",
            "\n"
          ]
        },
        {
          "name": "stderr",
          "output_type": "stream",
          "text": [
            "/usr/local/lib/python3.7/dist-packages/sklearn/metrics/_classification.py:1272: UndefinedMetricWarning: Recall and F-score are ill-defined and being set to 0.0 in labels with no true samples. Use `zero_division` parameter to control this behavior.\n",
            "  _warn_prf(average, modifier, msg_start, len(result))\n"
          ]
        }
      ]
    },
    {
      "cell_type": "markdown",
      "metadata": {
        "id": "EVA7zTmlPzZ1"
      },
      "source": [
        "The accuracy is very low, let's try to to binerize the target into three bins"
      ]
    },
    {
      "cell_type": "code",
      "metadata": {
        "id": "nZNJgJdAQTMy"
      },
      "source": [
        "y_train_3 = y_train.apply(lambda x: 1 if x in [4, 5] else (0 if x==3 else -1))\n",
        "y_test_3 = y_test.apply(lambda x: 1 if x in [4, 5] else (0 if x==3 else -1))"
      ],
      "execution_count": null,
      "outputs": []
    },
    {
      "cell_type": "code",
      "metadata": {
        "colab": {
          "base_uri": "https://localhost:8080/"
        },
        "id": "0kKU8Ne6TV7h",
        "outputId": "d442b45b-8058-4ffc-b4fe-8975db0a9a0e"
      },
      "source": [
        "inputs = tf.keras.Input(shape=(1645,))\n",
        "x = tf.keras.layers.Embedding(\n",
        "    input_dim=37846,\n",
        "    output_dim=64\n",
        ")(inputs)\n",
        "x = tf.keras.layers.Flatten()(x)\n",
        "x = tf.keras.layers.Dense(128, activation='relu')(x)\n",
        "x = tf.keras.layers.Dense(128, activation='relu')(x)\n",
        "outputs = tf.keras.layers.Dense(1, activation='linear')(x)\n",
        "\n",
        "w2v_3_model = tf.keras.Model(inputs=inputs, outputs=outputs)\n",
        "\n",
        "w2v_3_model.compile(\n",
        "    optimizer='adam',\n",
        "    loss='mse'\n",
        ")\n",
        "\n",
        "history = w2v_3_model.fit(\n",
        "    X_train,\n",
        "    y_train_3,\n",
        "    validation_split=0.2,\n",
        "    batch_size=32,\n",
        "    epochs=100,\n",
        "    callbacks=[\n",
        "        tf.keras.callbacks.EarlyStopping(\n",
        "            monitor='val_loss',\n",
        "            patience=4,\n",
        "            restore_best_weights=True\n",
        "        )\n",
        "    ], verbose=1\n",
        ")"
      ],
      "execution_count": null,
      "outputs": [
        {
          "output_type": "stream",
          "name": "stdout",
          "text": [
            "Epoch 1/100\n",
            "747/747 [==============================] - 12s 16ms/step - loss: 0.2892 - val_loss: 0.2002\n",
            "Epoch 2/100\n",
            "747/747 [==============================] - 11s 15ms/step - loss: 0.1202 - val_loss: 0.2104\n",
            "Epoch 3/100\n",
            "747/747 [==============================] - 12s 16ms/step - loss: 0.0632 - val_loss: 0.2206\n",
            "Epoch 4/100\n",
            "747/747 [==============================] - 11s 15ms/step - loss: 0.0341 - val_loss: 0.2224\n",
            "Epoch 5/100\n",
            "747/747 [==============================] - 12s 16ms/step - loss: 0.0205 - val_loss: 0.2193\n"
          ]
        }
      ]
    },
    {
      "cell_type": "code",
      "metadata": {
        "id": "gJu2xD2XTasI"
      },
      "source": [
        "y_pred_3 = np.squeeze(w2v_3_model.predict(X_test))"
      ],
      "execution_count": null,
      "outputs": []
    },
    {
      "cell_type": "code",
      "metadata": {
        "id": "9dcYb7keWfM0"
      },
      "source": [
        "y_pred_3_ = pd.Series(y_pred_3).apply(lambda x: round(x))"
      ],
      "execution_count": null,
      "outputs": []
    },
    {
      "cell_type": "code",
      "metadata": {
        "colab": {
          "base_uri": "https://localhost:8080/"
        },
        "id": "u63rDBanXqCi",
        "outputId": "12bdcf6a-3cb7-4c90-9bae-cc611c890a0c"
      },
      "source": [
        "y_pred_3_.unique()"
      ],
      "execution_count": null,
      "outputs": [
        {
          "output_type": "execute_result",
          "data": {
            "text/plain": [
              "array([ 1,  0, -1])"
            ]
          },
          "metadata": {},
          "execution_count": 69
        }
      ]
    },
    {
      "cell_type": "code",
      "metadata": {
        "id": "FwE5e-GLXaMd"
      },
      "source": [
        "y_pred_changed = []\n",
        "for pred in y_pred_3_:\n",
        "    if pred >= 4:\n",
        "        y_pred_changed.append(5)\n",
        "    elif pred < 3:\n",
        "        y_pred_changed.append(1)\n",
        "    else :\n",
        "        y_pred_changed.append(pred)"
      ],
      "execution_count": null,
      "outputs": []
    },
    {
      "cell_type": "code",
      "metadata": {
        "colab": {
          "base_uri": "https://localhost:8080/"
        },
        "id": "lbZ_GM4TWlX0",
        "outputId": "fb8e49b8-f50b-418c-e11c-f4d3de528bd1"
      },
      "source": [
        "print(classification_report(y_test_3, y_pred_changed))"
      ],
      "execution_count": null,
      "outputs": [
        {
          "output_type": "stream",
          "name": "stdout",
          "text": [
            "              precision    recall  f1-score   support\n",
            "\n",
            "          -1       0.00      0.00      0.00      1078\n",
            "           0       0.00      0.00      0.00      1472\n",
            "           1       0.80      1.00      0.89     10247\n",
            "\n",
            "    accuracy                           0.80     12797\n",
            "   macro avg       0.27      0.33      0.30     12797\n",
            "weighted avg       0.64      0.80      0.71     12797\n",
            "\n"
          ]
        },
        {
          "output_type": "stream",
          "name": "stderr",
          "text": [
            "/usr/local/lib/python3.7/dist-packages/sklearn/metrics/_classification.py:1272: UndefinedMetricWarning: Precision and F-score are ill-defined and being set to 0.0 in labels with no predicted samples. Use `zero_division` parameter to control this behavior.\n",
            "  _warn_prf(average, modifier, msg_start, len(result))\n"
          ]
        }
      ]
    },
    {
      "cell_type": "markdown",
      "source": [
        "After label binnig the accuracy incrased from 55% to 80%. It's possible the model is having a hard time seperatin 4 from 5 and 1 from 2."
      ],
      "metadata": {
        "id": "Q39hiqhx1mwF"
      }
    },
    {
      "cell_type": "markdown",
      "metadata": {
        "id": "rQuBOgghxHBX"
      },
      "source": [
        "#### 3.2.2 Bert transformer"
      ]
    },
    {
      "cell_type": "code",
      "metadata": {
        "id": "yfXTuf-7o4WP"
      },
      "source": [
        "df_train, df_test = train_test_split(df, test_size=0.1)\n",
        "\n",
        "def imdb_gen(df):\n",
        "    def g():\n",
        "        for row in df.itertuples():\n",
        "            text = row.processed_text\n",
        "            label = 1 if row.Rating > 3 else 0\n",
        "            # label = row.Rating\n",
        "            tokenized = tokenizer(text, max_length=128, padding='max_length',\n",
        "                                  truncation=True ) ## ANSWER TO QUESTION 13 HERE\n",
        "            yield {k: np.array(tokenized[k]) for k in tokenized}, label\n",
        "    return g\n",
        "\n",
        "input_names = ['input_ids', 'token_type_ids', 'attention_mask']\n",
        "data_types = ({k: tf.int32 for k in input_names}, tf.int64)\n",
        "data_shapes = ({k: tf.TensorShape([None]) for k in input_names}, tf.TensorShape([]))\n",
        "\n",
        "imdb_data_train = tf.data.Dataset.from_generator(\n",
        "    imdb_gen(df_train),\n",
        "    data_types, data_shapes\n",
        ").shuffle(100).batch(32).repeat(4)\n",
        "\n",
        "imdb_data_test = tf.data.Dataset.from_generator(\n",
        "    imdb_gen(df_test),\n",
        "    data_types, data_shapes\n",
        ").shuffle(100).batch(32).repeat(4)"
      ],
      "execution_count": null,
      "outputs": []
    },
    {
      "cell_type": "code",
      "metadata": {
        "colab": {
          "base_uri": "https://localhost:8080/"
        },
        "id": "2cOdzQ9EpbA6",
        "outputId": "6a420338-8695-4acc-d619-7d356eaf4b81"
      },
      "source": [
        "mrpc_model = TFBertForSequenceClassification.from_pretrained('bert-base-uncased')\n",
        "tokenizer = BertTokenizer.from_pretrained('bert-base-uncased')"
      ],
      "execution_count": null,
      "outputs": [
        {
          "output_type": "stream",
          "name": "stderr",
          "text": [
            "All model checkpoint layers were used when initializing TFBertForSequenceClassification.\n",
            "\n",
            "Some layers of TFBertForSequenceClassification were not initialized from the model checkpoint at bert-base-uncased and are newly initialized: ['classifier']\n",
            "You should probably TRAIN this model on a down-stream task to be able to use it for predictions and inference.\n"
          ]
        }
      ]
    },
    {
      "cell_type": "code",
      "metadata": {
        "id": "G-HS3_EusTtp"
      },
      "source": [
        "\n",
        "loss = SparseCategoricalCrossentropy(from_logits =True)\n",
        "adam = Adam(learning_rate = 3e-5)"
      ],
      "execution_count": null,
      "outputs": []
    },
    {
      "cell_type": "code",
      "metadata": {
        "id": "KRfooCC2qAV8"
      },
      "source": [
        "mrpc_model.compile(optimizer= adam, loss= loss, metrics = 'accuracy')"
      ],
      "execution_count": null,
      "outputs": []
    },
    {
      "cell_type": "code",
      "metadata": {
        "colab": {
          "base_uri": "https://localhost:8080/"
        },
        "id": "ZIYXn6A_pffc",
        "outputId": "99459008-1edb-4604-fc64-996947558034"
      },
      "source": [
        "mrpc_model.fit(imdb_data_train, validation_data=imdb_data_test, epochs=100,\n",
        "               steps_per_epoch=64, validation_steps=16, verbose=1, callbacks=[\n",
        "        tf.keras.callbacks.EarlyStopping(\n",
        "            monitor='val_accuracy',\n",
        "            patience=4,\n",
        "            restore_best_weights=True\n",
        "        )\n",
        "    ])"
      ],
      "execution_count": null,
      "outputs": [
        {
          "output_type": "stream",
          "name": "stdout",
          "text": [
            "Epoch 1/100\n",
            "64/64 [==============================] - 128s 2s/step - loss: 0.4997 - accuracy: 0.7852 - val_loss: 0.3766 - val_accuracy: 0.8066\n",
            "Epoch 2/100\n",
            "64/64 [==============================] - 104s 2s/step - loss: 0.3871 - accuracy: 0.8262 - val_loss: 0.2950 - val_accuracy: 0.8770\n",
            "Epoch 3/100\n",
            "64/64 [==============================] - 105s 2s/step - loss: 0.3607 - accuracy: 0.8433 - val_loss: 0.3024 - val_accuracy: 0.8496\n",
            "Epoch 4/100\n",
            "64/64 [==============================] - 105s 2s/step - loss: 0.3228 - accuracy: 0.8560 - val_loss: 0.2643 - val_accuracy: 0.8984\n",
            "Epoch 5/100\n",
            "64/64 [==============================] - 105s 2s/step - loss: 0.3393 - accuracy: 0.8594 - val_loss: 0.2567 - val_accuracy: 0.8848\n",
            "Epoch 6/100\n",
            "64/64 [==============================] - 104s 2s/step - loss: 0.3223 - accuracy: 0.8740 - val_loss: 0.2720 - val_accuracy: 0.9004\n",
            "Epoch 7/100\n",
            "64/64 [==============================] - 104s 2s/step - loss: 0.3210 - accuracy: 0.8657 - val_loss: 0.2662 - val_accuracy: 0.8965\n",
            "Epoch 8/100\n",
            "64/64 [==============================] - 105s 2s/step - loss: 0.3182 - accuracy: 0.8687 - val_loss: 0.2691 - val_accuracy: 0.8867\n",
            "Epoch 9/100\n",
            "64/64 [==============================] - 105s 2s/step - loss: 0.3240 - accuracy: 0.8696 - val_loss: 0.2742 - val_accuracy: 0.8828\n",
            "Epoch 10/100\n",
            "64/64 [==============================] - 104s 2s/step - loss: 0.2833 - accuracy: 0.8857 - val_loss: 0.2406 - val_accuracy: 0.8887\n"
          ]
        },
        {
          "output_type": "execute_result",
          "data": {
            "text/plain": [
              "<keras.callbacks.History at 0x7f34fad15a90>"
            ]
          },
          "metadata": {},
          "execution_count": 87
        }
      ]
    },
    {
      "cell_type": "code",
      "metadata": {
        "colab": {
          "base_uri": "https://localhost:8080/"
        },
        "id": "wKoWSxtXyBO7",
        "outputId": "f520af69-09fa-4d6d-8882-449b1cb0fec8"
      },
      "source": [
        "# Save the entire model as a SavedModel.\n",
        "!mkdir -p saved_model\n",
        "mrpc_model.save('saved_model/my_transformer_model')"
      ],
      "execution_count": null,
      "outputs": [
        {
          "output_type": "stream",
          "name": "stderr",
          "text": [
            "WARNING:absl:Found untraced functions such as embeddings_layer_call_fn, embeddings_layer_call_and_return_conditional_losses, encoder_layer_call_fn, encoder_layer_call_and_return_conditional_losses, pooler_layer_call_fn while saving (showing 5 of 1055). These functions will not be directly callable after loading.\n"
          ]
        },
        {
          "output_type": "stream",
          "name": "stdout",
          "text": [
            "INFO:tensorflow:Assets written to: saved_model/my_transformer_model/assets\n"
          ]
        },
        {
          "output_type": "stream",
          "name": "stderr",
          "text": [
            "INFO:tensorflow:Assets written to: saved_model/my_transformer_model/assets\n",
            "/usr/local/lib/python3.7/dist-packages/keras/utils/generic_utils.py:497: CustomMaskWarning: Custom mask layers require a config and must override get_config. When loading, the custom mask layer must be passed to the custom_objects argument.\n",
            "  category=CustomMaskWarning)\n"
          ]
        }
      ]
    },
    {
      "cell_type": "code",
      "metadata": {
        "colab": {
          "base_uri": "https://localhost:8080/",
          "height": 157
        },
        "id": "NJYytkO-PDRD",
        "outputId": "9ed36a6a-1bcc-4e0a-9e18-4caf6539dbc8"
      },
      "source": [
        "# downloads the models from colab\n",
        "\n",
        "!zip -r /content/my_transformer_model.zip /content/saved_model/my_transformer_model\n",
        "\n",
        "files.download(\"/content/my_transformer_model.zip\")"
      ],
      "execution_count": null,
      "outputs": [
        {
          "output_type": "stream",
          "name": "stdout",
          "text": [
            "  adding: content/saved_model/my_transformer_model/ (stored 0%)\n",
            "  adding: content/saved_model/my_transformer_model/saved_model.pb (deflated 92%)\n",
            "  adding: content/saved_model/my_transformer_model/variables/ (stored 0%)\n",
            "  adding: content/saved_model/my_transformer_model/variables/variables.data-00000-of-00001 (deflated 15%)\n",
            "  adding: content/saved_model/my_transformer_model/variables/variables.index (deflated 81%)\n",
            "  adding: content/saved_model/my_transformer_model/assets/ (stored 0%)\n",
            "  adding: content/saved_model/my_transformer_model/keras_metadata.pb (deflated 95%)\n"
          ]
        },
        {
          "output_type": "display_data",
          "data": {
            "application/javascript": [
              "\n",
              "    async function download(id, filename, size) {\n",
              "      if (!google.colab.kernel.accessAllowed) {\n",
              "        return;\n",
              "      }\n",
              "      const div = document.createElement('div');\n",
              "      const label = document.createElement('label');\n",
              "      label.textContent = `Downloading \"${filename}\": `;\n",
              "      div.appendChild(label);\n",
              "      const progress = document.createElement('progress');\n",
              "      progress.max = size;\n",
              "      div.appendChild(progress);\n",
              "      document.body.appendChild(div);\n",
              "\n",
              "      const buffers = [];\n",
              "      let downloaded = 0;\n",
              "\n",
              "      const channel = await google.colab.kernel.comms.open(id);\n",
              "      // Send a message to notify the kernel that we're ready.\n",
              "      channel.send({})\n",
              "\n",
              "      for await (const message of channel.messages) {\n",
              "        // Send a message to notify the kernel that we're ready.\n",
              "        channel.send({})\n",
              "        if (message.buffers) {\n",
              "          for (const buffer of message.buffers) {\n",
              "            buffers.push(buffer);\n",
              "            downloaded += buffer.byteLength;\n",
              "            progress.value = downloaded;\n",
              "          }\n",
              "        }\n",
              "      }\n",
              "      const blob = new Blob(buffers, {type: 'application/binary'});\n",
              "      const a = document.createElement('a');\n",
              "      a.href = window.URL.createObjectURL(blob);\n",
              "      a.download = filename;\n",
              "      div.appendChild(a);\n",
              "      a.click();\n",
              "      div.remove();\n",
              "    }\n",
              "  "
            ],
            "text/plain": [
              "<IPython.core.display.Javascript object>"
            ]
          },
          "metadata": {}
        },
        {
          "output_type": "display_data",
          "data": {
            "application/javascript": [
              "download(\"download_a480a6ae-4eec-4d83-b070-ab6b657e8396\", \"file.zip\", 1111648939)"
            ],
            "text/plain": [
              "<IPython.core.display.Javascript object>"
            ]
          },
          "metadata": {}
        }
      ]
    },
    {
      "cell_type": "markdown",
      "metadata": {
        "id": "v7ZXHhEaz7Pf"
      },
      "source": [
        "## 4. Future Plans"
      ]
    },
    {
      "cell_type": "markdown",
      "metadata": {
        "id": "Rje2sM88z_Vk"
      },
      "source": [
        "* feature selection:\n",
        "  * Integrate the unused feature in the dataset into the models\n",
        "\n",
        "* Optimizations:\n",
        "  * Optimize the preprocessing differently for each model\n",
        "  * Optimize models's hyperparameters\n",
        "\n",
        "* Additional models to test:\n",
        "  * Doc2Vec"
      ]
    }
  ]
}